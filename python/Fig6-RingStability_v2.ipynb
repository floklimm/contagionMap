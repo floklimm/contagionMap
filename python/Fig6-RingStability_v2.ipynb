{
 "cells": [
  {
   "cell_type": "markdown",
   "metadata": {},
   "source": [
    "## Computing the ring stability of truncated contagion maps in dependence of the (a) threshold and (b) number of contagion steps"
   ]
  },
  {
   "cell_type": "code",
   "execution_count": 1,
   "metadata": {},
   "outputs": [],
   "source": [
    "%load_ext autoreload\n",
    "%autoreload 2\n",
    "\n",
    "import cmap as conmap\n",
    "import networkx as nx\n",
    "import numpy as np\n",
    "import matplotlib.pyplot as plt\n",
    "import seaborn as sns; \n",
    "sns.set_theme()\n",
    "import pandas as pd\n",
    "\n",
    "# For pretty colourmaps\n",
    "import palettable\n",
    "from matplotlib.colors import ListedColormap\n",
    "\n",
    "sns.set_style(\"white\")\n",
    "\n",
    "from sklearn.decomposition import PCA\n",
    "\n",
    "import matplotlib\n",
    "matplotlib.rcParams['pdf.fonttype'] = 42\n",
    "matplotlib.rcParams['ps.fonttype'] = 42\n"
   ]
  },
  {
   "cell_type": "markdown",
   "metadata": {},
   "source": [
    "We construct a noisy ring lattice network."
   ]
  },
  {
   "cell_type": "code",
   "execution_count": 2,
   "metadata": {},
   "outputs": [],
   "source": [
    "noisyRL = conmap.constructNoisyRingLattice(numberNodes=400,geometricDegree=6,nongeometricDegree=2)"
   ]
  },
  {
   "cell_type": "markdown",
   "metadata": {},
   "source": [
    "# a) Ring stability in dependence of the threshold\n",
    "We run the truncated contagion maps."
   ]
  },
  {
   "cell_type": "code",
   "execution_count": 3,
   "metadata": {},
   "outputs": [
    {
     "name": "stdout",
     "output_type": "stream",
     "text": [
      "0.0\n",
      "0.025\n",
      "0.05\n",
      "0.07500000000000001\n",
      "0.1\n",
      "0.125\n",
      "0.15000000000000002\n",
      "0.17500000000000002\n",
      "0.2\n",
      "0.225\n",
      "0.25\n",
      "0.275\n",
      "0.30000000000000004\n",
      "0.325\n",
      "0.35000000000000003\n",
      "0.375\n",
      "0.4\n",
      "0.42500000000000004\n",
      "0.45\n",
      "0.47500000000000003\n",
      "0.5\n",
      "0.525\n",
      "0.55\n",
      "0.5750000000000001\n",
      "0.6000000000000001\n",
      "CPU times: user 4min 16s, sys: 19.5 s, total: 4min 35s\n",
      "Wall time: 27min 22s\n"
     ]
    }
   ],
   "source": [
    "%%time\n",
    "\n",
    "tVec = np.arange(0,0.625,0.025)\n",
    "nStepVec = [10,20,np.Inf]\n",
    "\n",
    "correlationOut = []\n",
    "ringStabilityOut = []\n",
    "thresholdOut=[]\n",
    "nStepOut=[]\n",
    "for t in tVec:\n",
    "    print(t)\n",
    "    \n",
    "    for nStep in nStepVec:\n",
    "        contagionMap = conmap.runTruncatedContagionMap(noisyRL,threshold=t,numberSteps=nStep,symmetric=True)\n",
    "        # compute correlation\n",
    "        correlation = conmap.computeCorrelationDistances(noisyRL,contagionMap,type='Spearman')\n",
    "        # compute Ring stability\n",
    "        ringStability = conmap.callRipser(contagionMap)\n",
    "        # save\n",
    "        thresholdOut.append(t)\n",
    "        nStepOut.append(nStep)\n",
    "\n",
    "        correlationOut.append(correlation)\n",
    "        ringStabilityOut.append(ringStability)\n",
    "\n",
    "\n",
    "# save output DF\n",
    "contagionMapPerformace = pd.DataFrame()\n",
    "contagionMapPerformace['threshold'] = thresholdOut\n",
    "contagionMapPerformace['number steps'] = nStepOut\n",
    "contagionMapPerformace['spearman correlation'] = correlationOut\n",
    "contagionMapPerformace['ring stability'] = ringStabilityOut"
   ]
  },
  {
   "cell_type": "code",
   "execution_count": 4,
   "metadata": {},
   "outputs": [
    {
     "data": {
      "image/png": "[encoded data removed]",
      "text/plain": [
       "<Figure size 432x288 with 1 Axes>"
      ]
     },
     "metadata": {},
     "output_type": "display_data"
    }
   ],
   "source": [
    "# We select the data we want to plot for each line\n",
    "data_s10  = contagionMapPerformace[contagionMapPerformace['number steps'] == 10]\n",
    "data_s20  = contagionMapPerformace[contagionMapPerformace['number steps'] == 20]\n",
    "data_full  = contagionMapPerformace[contagionMapPerformace['number steps'] == np.inf]\n",
    "\n",
    "# We plot it\n",
    "plt.plot(data_s10['threshold'],data_s10['ring stability'],color='#d64161',linewidth=2.0,label='$s=10$')\n",
    "plt.plot(data_s20['threshold'],data_s20['ring stability'],color='#4161d6',linewidth=2.0,label='$s=20$')\n",
    "plt.plot(data_full['threshold'],data_full['ring stability'],color='k',linewidth=2.0,label='$s=\\infty$', linestyle='--')\n",
    "\n",
    "\n",
    "plt.xlim([0,0.6])\n",
    "plt.ylim([0,0.5])\n",
    "\n",
    "# labels for data line\n",
    "plt.text(0.22,0.40,s='$s=10$',color='#d64161',ha='right')\n",
    "plt.text(0.22,0.45,s='$s=20$',color='#4161d6',ha='right')\n",
    "plt.text(0.22,0.32,s='full contagion map',color='k',ha='right')\n",
    "\n",
    "# vertical lines\n",
    "plt.vlines(0.3/(1+0.3),ymin=0,ymax=0.5,color='#282828', linestyle=':')\n",
    "plt.vlines(1/(2+2*0.3),ymin=0,ymax=0.5,color='#282828', linestyle=':')\n",
    "\n",
    "\n",
    "plt.xlabel('threshold, $T$')\n",
    "plt.ylabel('ring stability, $\\Delta$')\n",
    "plt.tight_layout()\n",
    "plt.savefig('./figures/Fig6a-ringStabilityVsTreshold.pdf')"
   ]
  },
  {
   "cell_type": "markdown",
   "metadata": {},
   "source": [
    "# b) Ring stability in dependece of the number of steps.\n",
    "\n",
    "We run the truncated contagion maps."
   ]
  },
  {
   "cell_type": "code",
   "execution_count": 5,
   "metadata": {},
   "outputs": [
    {
     "name": "stdout",
     "output_type": "stream",
     "text": [
      "1\n",
      "2\n",
      "3\n",
      "4\n",
      "5\n",
      "6\n",
      "7\n",
      "8\n",
      "9\n",
      "10\n",
      "11\n",
      "12\n",
      "13\n",
      "14\n",
      "15\n",
      "16\n",
      "17\n",
      "18\n",
      "19\n",
      "20\n",
      "21\n",
      "22\n",
      "23\n",
      "24\n",
      "25\n",
      "26\n",
      "27\n",
      "28\n",
      "29\n",
      "30\n",
      "31\n",
      "32\n",
      "33\n",
      "34\n",
      "35\n",
      "36\n",
      "37\n",
      "38\n",
      "39\n",
      "40\n",
      "41\n",
      "42\n",
      "43\n",
      "44\n",
      "45\n",
      "46\n",
      "47\n",
      "48\n",
      "49\n",
      "50\n",
      "51\n",
      "52\n",
      "53\n",
      "54\n",
      "55\n",
      "56\n",
      "57\n",
      "58\n",
      "59\n",
      "60\n",
      "61\n",
      "62\n",
      "63\n",
      "64\n",
      "65\n",
      "66\n",
      "67\n",
      "68\n",
      "69\n",
      "70\n",
      "71\n",
      "72\n",
      "73\n",
      "74\n",
      "75\n",
      "76\n",
      "77\n",
      "78\n",
      "79\n",
      "80\n",
      "81\n",
      "82\n",
      "83\n",
      "84\n",
      "85\n",
      "86\n",
      "87\n",
      "88\n",
      "89\n",
      "90\n",
      "91\n",
      "92\n",
      "93\n",
      "94\n",
      "95\n",
      "96\n",
      "97\n",
      "98\n",
      "99\n",
      "100\n",
      "101\n",
      "102\n",
      "103\n",
      "104\n",
      "105\n",
      "106\n",
      "107\n",
      "108\n",
      "109\n",
      "110\n",
      "111\n",
      "112\n",
      "113\n",
      "114\n",
      "115\n",
      "116\n",
      "117\n",
      "118\n",
      "119\n",
      "inf\n",
      "CPU times: user 9min 15s, sys: 27 s, total: 9min 42s\n",
      "Wall time: 18min 51s\n"
     ]
    }
   ],
   "source": [
    "%%time\n",
    "\n",
    "tVec = [0.3]\n",
    "nStepVec = [i for i in range(1,120,1)]\n",
    "nStepVec.append(np.Inf)\n",
    "\n",
    "correlationOut = []\n",
    "ringStabilityOut = []\n",
    "thresholdOut=[]\n",
    "nStepOut=[]\n",
    "for t in tVec:\n",
    "    for nStep in nStepVec:\n",
    "        print(nStep)\n",
    "        contagionMap = conmap.runTruncatedContagionMap(noisyRL,threshold=t,numberSteps=nStep,symmetric=True)\n",
    "        # compute correlation\n",
    "        correlation = conmap.computeCorrelationDistances(noisyRL,contagionMap,type='Spearman')\n",
    "        # compute Ring stability\n",
    "        ringStability = conmap.callRipser(contagionMap)\n",
    "        # save\n",
    "        thresholdOut.append(t)\n",
    "        nStepOut.append(nStep)\n",
    "\n",
    "        correlationOut.append(correlation)\n",
    "        ringStabilityOut.append(ringStability)\n",
    "\n",
    "\n",
    "# save output DF\n",
    "contagionMapPerformace_s = pd.DataFrame()\n",
    "contagionMapPerformace_s['threshold'] = thresholdOut\n",
    "contagionMapPerformace_s['number steps'] = nStepOut\n",
    "contagionMapPerformace_s['spearman correlation'] = correlationOut\n",
    "contagionMapPerformace_s['ring stability'] = ringStabilityOut"
   ]
  },
  {
   "cell_type": "markdown",
   "metadata": {},
   "source": [
    "Plotting"
   ]
  },
  {
   "cell_type": "code",
   "execution_count": 6,
   "metadata": {},
   "outputs": [
    {
     "data": {
      "image/png": "[encoded data removed]",
      "text/plain": [
       "<Figure size 432x288 with 1 Axes>"
      ]
     },
     "metadata": {},
     "output_type": "display_data"
    }
   ],
   "source": [
    "\n",
    "data_t03  = contagionMapPerformace_s[contagionMapPerformace_s['threshold'] == 0.3]\n",
    "plt.plot(data_t03['number steps'],data_t03['ring stability'],color='#d64161',linewidth=2.0,label='truncated contagion map')\n",
    "plt.axhline(y=data_t03[data_t03['number steps'] == np.inf]['ring stability'].values[0], color='k', linestyle='--',label=' ')\n",
    "\n",
    "\n",
    "plt.text(42,0.50,s='truncated contagion map',color='#d64161')\n",
    "plt.text(59,0.36,s='full contagion map',color='k')\n",
    "plt.xlim([0,120])\n",
    "\n",
    "plt.xlabel('number of steps, $s$')\n",
    "plt.ylabel('ring stability, $\\Delta$')\n",
    "plt.tight_layout()\n",
    "plt.savefig('./figures/Fig6b-ringStabilityVsSteps.pdf')"
   ]
  },
  {
   "cell_type": "markdown",
   "metadata": {},
   "source": [
    "### c) Number of steps $s$ for optimal ring stability in dependence of the network size "
   ]
  },
  {
   "cell_type": "code",
   "execution_count": 3,
   "metadata": {},
   "outputs": [
    {
     "name": "stdout",
     "output_type": "stream",
     "text": [
      "50\n",
      "100\n",
      "150\n",
      "200\n",
      "250\n",
      "300\n",
      "350\n",
      "400\n",
      "450\n",
      "500\n",
      "550\n"
     ]
    }
   ],
   "source": [
    "%%time\n",
    "\n",
    "# networkSizeVec = np.ceil(10**np.arange(2,4,0.5))\n",
    "# networkSizeVec = networkSizeVec.astype(int)\n",
    "networkSizeVec = np.arange(50,600,50)\n",
    "\n",
    "tVec = [0.3]\n",
    "nStepVec = [i for i in range(1,120,5)]\n",
    "nStepVec.append(np.Inf)\n",
    "\n",
    "\n",
    "ringStabilityOut = []\n",
    "thresholdOut=[]\n",
    "nStepOut=[]\n",
    "networkSizeOut=[]\n",
    "\n",
    "for networkSize in networkSizeVec:\n",
    "    print(networkSize)\n",
    "    noisyRL = conmap.constructNoisyRingLattice(numberNodes=networkSize,geometricDegree=6,nongeometricDegree=2)\n",
    "    for t in tVec:\n",
    "        for nStep in nStepVec:\n",
    "           \n",
    "            contagionMap = conmap.runTruncatedContagionMap(noisyRL,threshold=t,numberSteps=nStep,symmetric=True)\n",
    "            # compute Ring stability\n",
    "            ringStability = conmap.callRipser(contagionMap)\n",
    "            # save\n",
    "            thresholdOut.append(t)\n",
    "            nStepOut.append(nStep)\n",
    "            networkSizeOut.append(networkSize)\n",
    "\n",
    "            ringStabilityOut.append(ringStability)\n",
    "\n",
    "\n",
    "# save output DF\n",
    "contagionMapPerformace_s = pd.DataFrame()\n",
    "contagionMapPerformace_s['threshold'] = thresholdOut\n",
    "contagionMapPerformace_s['number steps'] = nStepOut\n",
    "contagionMapPerformace_s['network size'] = networkSizeOut\n",
    "contagionMapPerformace_s['ring stability'] = ringStabilityOut\n"
   ]
  },
  {
   "cell_type": "code",
   "execution_count": null,
   "metadata": {},
   "outputs": [],
   "source": [
    "# find the optimal number of steps for each of the sizes\n",
    "\n",
    "optimalStepSize_Out=[]\n",
    "for networkSize in networkSizeVec:\n",
    "    # \n",
    "    dataThisNetworkSize = contagionMapPerformace_s[contagionMapPerformace_s['network size'] == networkSize]\n",
    "    # find it\n",
    "    bestStepSize = dataThisNetworkSize['number steps'][dataThisNetworkSize['ring stability'].idxmax()]\n",
    "\n",
    "    optimalStepSize_Out.append(bestStepSize)\n"
   ]
  },
  {
   "cell_type": "code",
   "execution_count": null,
   "metadata": {},
   "outputs": [
    {
     "data": {
      "text/plain": [
       "<matplotlib.collections.PathCollection at 0x18ddd5280>"
      ]
     },
     "execution_count": 15,
     "metadata": {},
     "output_type": "execute_result"
    },
    {
     "data": {
      "image/png": "[encoded data removed]",
      "text/plain": [
       "<Figure size 432x288 with 1 Axes>"
      ]
     },
     "metadata": {},
     "output_type": "display_data"
    }
   ],
   "source": [
    "\n",
    "#data_t03  = contagionMapPerformace_s[contagionMapPerformace_s['threshold'] == 0.3]\n",
    "plt.scatter(networkSizeVec,optimalStepSize_Out,color='#d64161',linewidth=2.0,label='truncated contagion map',marker='x')\n",
    "# plt.axhline(y=data_t03[data_t03['number steps'] == np.inf]['ring stability'].values[0], color='k', linestyle='--',label=' ')\n",
    "\n",
    "\n",
    "# plt.text(42,0.50,s='truncated contagion map',color='#d64161')\n",
    "# plt.text(59,0.36,s='full contagion map',color='k')\n",
    "# plt.xlim([0,120])\n",
    "\n",
    "# plt.xlabel('number of steps, $s$')\n",
    "# plt.ylabel('ring stability, $\\Delta$')\n",
    "# plt.tight_layout()\n",
    "# plt.savefig('./figures/Fig6b-ringStabilityVsSteps.pdf')"
   ]
  },
  {
   "cell_type": "code",
   "execution_count": null,
   "metadata": {},
   "outputs": [
    {
     "data": {
      "text/plain": [
       "array([0.06 , 0.105, 0.07 , 0.115])"
      ]
     },
     "execution_count": 17,
     "metadata": {},
     "output_type": "execute_result"
    }
   ],
   "source": [
    "optimalStepSize_Out/networkSizeVec"
   ]
  },
  {
   "cell_type": "code",
   "execution_count": null,
   "metadata": {},
   "outputs": [],
   "source": []
  }
 ],
 "metadata": {
  "interpreter": {
   "hash": "496ebf3cfb7884aa65af7315f23f52b63bd27cd86308d3611cee752f3356cbb4"
  },
  "kernelspec": {
   "display_name": "Python 3.9.7 ('contagionMap')",
   "language": "python",
   "name": "python3"
  },
  "language_info": {
   "codemirror_mode": {
    "name": "ipython",
    "version": 3
   },
   "file_extension": ".py",
   "mimetype": "text/x-python",
   "name": "python",
   "nbconvert_exporter": "python",
   "pygments_lexer": "ipython3",
   "version": "3.9.7"
  },
  "orig_nbformat": 4
 },
 "nbformat": 4,
 "nbformat_minor": 2
}

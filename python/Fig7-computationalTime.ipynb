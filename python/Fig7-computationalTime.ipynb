{
 "cells": [
  {
   "cell_type": "markdown",
   "metadata": {},
   "source": [
    "## Timing of (truncated) contagion maps"
   ]
  },
  {
   "cell_type": "code",
   "execution_count": 1,
   "metadata": {},
   "outputs": [],
   "source": [
    "%load_ext autoreload\n",
    "%autoreload 2\n",
    "\n",
    "import cmap as conmap\n",
    "import networkx as nx\n",
    "import numpy as np\n",
    "import matplotlib.pyplot as plt\n",
    "import seaborn as sns; \n",
    "sns.set_theme()\n",
    "import pandas as pd\n",
    "\n",
    "# For pretty colourmaps\n",
    "import palettable\n",
    "from matplotlib.colors import ListedColormap\n",
    "\n",
    "sns.set_style(\"white\")\n",
    "\n",
    "import time\n"
   ]
  },
  {
   "cell_type": "markdown",
   "metadata": {},
   "source": [
    "### In dependence of the network size $N$"
   ]
  },
  {
   "cell_type": "markdown",
   "metadata": {},
   "source": [
    "## Timing the calculations"
   ]
  },
  {
   "cell_type": "code",
   "execution_count": 14,
   "metadata": {},
   "outputs": [
    {
     "name": "stdout",
     "output_type": "stream",
     "text": [
      "31\n",
      "failed adding of non-geometric edges: restart\n",
      "network constructed\n",
      "56\n",
      "failed adding of non-geometric edges: restart\n",
      "network constructed\n",
      "100\n",
      "failed adding of non-geometric edges: restart\n",
      "network constructed\n",
      "177\n",
      "network constructed\n",
      "316\n",
      "network constructed\n",
      "562\n",
      "network constructed\n",
      "1000\n",
      "network constructed\n",
      "1778\n",
      "network constructed\n",
      "3162\n",
      "network constructed\n",
      "5623\n",
      "network constructed\n"
     ]
    }
   ],
   "source": [
    "N_vec = 10**np.arange(1.5,4,0.25)\n",
    "N_vec = N_vec.astype(int)\n",
    "\n",
    "t=0.3\n",
    "\n",
    "truncatedMapTime = []\n",
    "fullMapTime = []\n",
    "\n",
    "# time the execution of the maps\n",
    "for N in N_vec:\n",
    "    print(N)\n",
    "    # network construction\n",
    "    noisyRL = conmap.constructNoisyRingLattice(numberNodes=N,geometricDegree=6,nongeometricDegree=2)\n",
    "    print('network constructed')\n",
    "    # time the trunctated map\n",
    "    start = time.time()\n",
    "    contagionMap = conmap.runTruncatedContagionMap(noisyRL,threshold=t,numberSteps=20,symmetric=True)\n",
    "    end = time.time()\n",
    "    truncatedMapTime.append(end-start)\n",
    "\n",
    "    # time the fill map\n",
    "    start = time.time()\n",
    "    contagionMap = conmap.runTruncatedContagionMap(noisyRL,threshold=t,symmetric=True)\n",
    "    end = time.time()\n",
    "    fullMapTime.append(end-start)"
   ]
  },
  {
   "cell_type": "code",
   "execution_count": 15,
   "metadata": {},
   "outputs": [],
   "source": [
    "# fit powerlaw to data\n",
    "from scipy.optimize import curve_fit\n",
    "\n",
    "def func_powerlaw(_offsetx, m, c, c0):\n",
    "    return c0 + x**m * c\n",
    "\n",
    "def func_powerlaw(x, m, c):\n",
    "    return (x**m) * c\n",
    "\n",
    "fittedValues_fullmap, pcov = curve_fit(func_powerlaw, N_vec, fullMapTime, maxfev=2000 )\n",
    "fittedValues_truncatedmap, pcov = curve_fit(func_powerlaw, N_vec, truncatedMapTime, maxfev=2000 )\n",
    "\n",
    "\n",
    "\n"
   ]
  },
  {
   "cell_type": "markdown",
   "metadata": {},
   "source": [
    "## Plotting"
   ]
  },
  {
   "cell_type": "code",
   "execution_count": 16,
   "metadata": {},
   "outputs": [
    {
     "data": {
      "image/png": "[encoded data removed]",
      "text/plain": [
       "<Figure size 432x288 with 1 Axes>"
      ]
     },
     "metadata": {},
     "output_type": "display_data"
    }
   ],
   "source": [
    "\n",
    "fig = plt.figure()\n",
    "ax = fig.add_subplot(1, 1, 1)\n",
    "plt.scatter(N_vec,fullMapTime,color='#3eafd1',s=100,marker='s')\n",
    "plt.scatter(N_vec,truncatedMapTime,color='#c1502e',s=50,marker='o')\n",
    "\n",
    "ax.set_yscale('log')\n",
    "ax.set_xscale('log')\n",
    "\n",
    "# add fit lines\n",
    "plt.plot(N_vec, func_powerlaw(N_vec, fittedValues_truncatedmap[0], fittedValues_truncatedmap[1]), '-',color='#c1502e')\n",
    "plt.plot(N_vec, func_powerlaw(N_vec, fittedValues_fullmap[0], fittedValues_fullmap[1]), '-',color='#3eafd1')\n",
    "plt.xlabel('network size, $N$')\n",
    "plt.ylabel('computation time, $\\delta t$ in s')\n",
    "\n",
    "# add labels\n",
    "plt.text(10**2.2,10**2,'full contagion map\\n $\\delta t \\propto N^{2.6}$',color='#3eafd1')\n",
    "plt.text(10**2.5,0.05,'truncated contagion map\\n $\\delta t \\propto N^{1.97}$',color='#c1502e')\n",
    "plt.tight_layout()\n",
    "\n",
    "plt.savefig('./figures/Fig7-computationalComplexityTruncatedContagion.pdf')\n",
    "\n"
   ]
  },
  {
   "cell_type": "markdown",
   "metadata": {},
   "source": [
    "## In dependence of the scaling parameter $s$"
   ]
  },
  {
   "cell_type": "code",
   "execution_count": 54,
   "metadata": {},
   "outputs": [
    {
     "name": "stdout",
     "output_type": "stream",
     "text": [
      "10\n",
      "network constructed\n",
      "17\n",
      "network constructed\n",
      "31\n",
      "network constructed\n",
      "56\n",
      "network constructed\n",
      "100\n",
      "network constructed\n",
      "177\n",
      "network constructed\n",
      "316\n",
      "network constructed\n",
      "562\n",
      "network constructed\n",
      "full map\n"
     ]
    }
   ],
   "source": [
    "N=10000\n",
    "\n",
    "#s_vec = np.arange(10,N,20)\n",
    "#s_vec = np.arange(10,N,round((N-10)/6))\n",
    "s_vec = 10**np.arange(1,3,0.25)\n",
    "s_vec = s_vec.astype(int)\n",
    "\n",
    "\n",
    "\n",
    "t=0.3\n",
    "\n",
    "truncatedMapTime = []\n",
    "fullMapTime = []\n",
    "\n",
    "# time the execution of the maps\n",
    "for s in s_vec:\n",
    "    print(s)\n",
    "    # network construction\n",
    "    noisyRL = conmap.constructNoisyRingLattice(numberNodes=N,geometricDegree=6,nongeometricDegree=2)\n",
    "    print('network constructed')\n",
    "    # time the trunctated map\n",
    "    start = time.time()\n",
    "    contagionMap = conmap.runTruncatedContagionMap(noisyRL,threshold=t,numberSteps=s,symmetric=True)\n",
    "    end = time.time()\n",
    "    truncatedMapTime.append(end-start)\n",
    "print('full map')\n",
    "# time the full map only once\n",
    "start = time.time()\n",
    "contagionMap = conmap.runTruncatedContagionMap(noisyRL,threshold=t,symmetric=True)\n",
    "end = time.time()\n",
    "fullMapTime.append(end-start)"
   ]
  },
  {
   "cell_type": "code",
   "execution_count": 55,
   "metadata": {},
   "outputs": [],
   "source": [
    "# fit powerlaw to data\n",
    "from scipy.optimize import curve_fit\n",
    "\n",
    "def func_powerlaw(_offsetx, m, c, c0):\n",
    "    return c0 + x**m * c\n",
    "\n",
    "def func_powerlaw(x, m, c):\n",
    "    return (x**m) * c\n",
    "\n",
    "#fittedValues_fullmap, pcov = curve_fit(func_powerlaw, N_vec, fullMapTime, maxfev=2000 )\n",
    "fittedValues_truncatedmap, pcov = curve_fit(func_powerlaw, s_vec, truncatedMapTime, maxfev=2000 )\n",
    "\n",
    "\n",
    "\n"
   ]
  },
  {
   "cell_type": "code",
   "execution_count": 78,
   "metadata": {},
   "outputs": [
    {
     "data": {
      "image/png": "[encoded data removed]",
      "text/plain": [
       "<Figure size 432x288 with 1 Axes>"
      ]
     },
     "metadata": {},
     "output_type": "display_data"
    }
   ],
   "source": [
    "\n",
    "fig = plt.figure()\n",
    "ax = fig.add_subplot(1, 1, 1)\n",
    "#plt.scatter(s_vec,fullMapTime,color='#3eafd1',s=100,marker='s')\n",
    "plt.scatter(s_vec,truncatedMapTime,color='#c1502e',s=50,marker='o')\n",
    "\n",
    "plt.hlines(fullMapTime[0],s_vec[0],s_vec[-1],color='#3eafd1',linestyle=':')\n",
    "\n",
    "\n",
    "ax.set_yscale('log')\n",
    "ax.set_xscale('log')\n",
    "\n",
    "# # add fit lines\n",
    "plt.plot(s_vec, func_powerlaw(s_vec, fittedValues_truncatedmap[0], fittedValues_truncatedmap[1]), '-',color='#c1502e')\n",
    "# plt.plot(N_vec, func_powerlaw(N_vec, fittedValues_fullmap[0], fittedValues_fullmap[1]), '-',color='#3eafd1')\n",
    "plt.xlabel('number of steps, $s$')\n",
    "plt.ylabel('computation time, $\\delta t$ in s')\n",
    "\n",
    "\n",
    "plt.yticks([10**2,10**3,10**4])\n",
    "\n",
    "\n",
    "# # add labels\n",
    "plt.text(10**1,10**3.9,'full contagion map\\n $\\delta t \\cancel{\\propto} s$',color='#3eafd1')\n",
    "plt.text(10**1.7,10**2.8,'truncated contagion map\\n $\\delta t \\propto s^{0.58}$',color='#c1502e')\n",
    "plt.tight_layout()\n",
    "\n",
    "#plt.savefig('./figures/Fig7-computationalComplexityTruncatedContagion.pdf')\n",
    "\n"
   ]
  },
  {
   "cell_type": "code",
   "execution_count": 57,
   "metadata": {},
   "outputs": [
    {
     "data": {
      "text/plain": [
       "array([  0.5819608 , 100.87272928])"
      ]
     },
     "execution_count": 57,
     "metadata": {},
     "output_type": "execute_result"
    }
   ],
   "source": [
    "fittedValues_truncatedmap"
   ]
  },
  {
   "cell_type": "code",
   "execution_count": 67,
   "metadata": {},
   "outputs": [
    {
     "data": {
      "text/plain": [
       "[731.5897650718689,\n",
       " 763.5492129325867,\n",
       " 922.081481218338,\n",
       " 1054.050409078598,\n",
       " 1286.4366538524628,\n",
       " 1786.190927028656,\n",
       " 2709.5814530849457,\n",
       " 4240.196256637573]"
      ]
     },
     "execution_count": 67,
     "metadata": {},
     "output_type": "execute_result"
    }
   ],
   "source": [
    "truncatedMapTime"
   ]
  },
  {
   "cell_type": "code",
   "execution_count": 74,
   "metadata": {},
   "outputs": [
    {
     "data": {
      "text/plain": [
       "[11211.15835905075]"
      ]
     },
     "execution_count": 74,
     "metadata": {},
     "output_type": "execute_result"
    }
   ],
   "source": [
    "fullMapTime"
   ]
  },
  {
   "cell_type": "code",
   "execution_count": null,
   "metadata": {},
   "outputs": [],
   "source": []
  }
 ],
 "metadata": {
  "interpreter": {
   "hash": "496ebf3cfb7884aa65af7315f23f52b63bd27cd86308d3611cee752f3356cbb4"
  },
  "kernelspec": {
   "display_name": "Python 3.9.7 ('contagionMap')",
   "language": "python",
   "name": "python3"
  },
  "language_info": {
   "codemirror_mode": {
    "name": "ipython",
    "version": 3
   },
   "file_extension": ".py",
   "mimetype": "text/x-python",
   "name": "python",
   "nbconvert_exporter": "python",
   "pygments_lexer": "ipython3",
   "version": "3.9.7"
  },
  "orig_nbformat": 4
 },
 "nbformat": 4,
 "nbformat_minor": 2
}

{
 "cells": [
  {
   "cell_type": "markdown",
   "metadata": {},
   "source": [
    "## Timing of (truncated) contagion maps"
   ]
  },
  {
   "cell_type": "code",
   "execution_count": 3,
   "metadata": {},
   "outputs": [
    {
     "name": "stdout",
     "output_type": "stream",
     "text": [
      "The autoreload extension is already loaded. To reload it, use:\n",
      "  %reload_ext autoreload\n"
     ]
    }
   ],
   "source": [
    "%load_ext autoreload\n",
    "%autoreload 2\n",
    "\n",
    "import cmap as conmap\n",
    "import networkx as nx\n",
    "import numpy as np\n",
    "import matplotlib.pyplot as plt\n",
    "import seaborn as sns; \n",
    "sns.set_theme()\n",
    "import pandas as pd\n",
    "\n",
    "# For pretty colourmaps\n",
    "import palettable\n",
    "from matplotlib.colors import ListedColormap\n",
    "\n",
    "sns.set_style(\"white\")\n",
    "\n",
    "import time\n"
   ]
  },
  {
   "cell_type": "code",
   "execution_count": 4,
   "metadata": {},
   "outputs": [
    {
     "name": "stdout",
     "output_type": "stream",
     "text": [
      "31\n",
      "failed adding of non-geometric edges: restart\n",
      "network constructed\n",
      "56\n",
      "network constructed\n",
      "100\n",
      "network constructed\n",
      "177\n",
      "network constructed\n",
      "316\n",
      "network constructed\n",
      "562\n",
      "network constructed\n"
     ]
    }
   ],
   "source": [
    "N_vec = 10**np.arange(1.5,4,0.25)\n",
    "N_vec = N_vec. astype(int)\n",
    "\n",
    "t=0.3\n",
    "\n",
    "truncatedMapTime = []\n",
    "fullMapTime = []\n",
    "\n",
    "# time the execution of the maps\n",
    "for N in N_vec:\n",
    "    print(N)\n",
    "    # network construction\n",
    "    noisyRL = conmap.constructNoisyRingLattice(numberNodes=N,geometricDegree=6,nongeometricDegree=2)\n",
    "    print('network constructed')\n",
    "    # time the trunctated map\n",
    "    start = time.time()\n",
    "    contagionMap = conmap.runTruncatedContagionMap(noisyRL,threshold=t,numberSteps=20,symmetric=True)\n",
    "    end = time.time()\n",
    "    truncatedMapTime.append(end-start)\n",
    "\n",
    "    # time the fill map\n",
    "    start = time.time()\n",
    "    contagionMap = conmap.runTruncatedContagionMap(noisyRL,threshold=t,symmetric=True)\n",
    "    end = time.time()\n",
    "    fullMapTime.append(end-start)"
   ]
  },
  {
   "cell_type": "code",
   "execution_count": null,
   "metadata": {},
   "outputs": [],
   "source": []
  }
 ],
 "metadata": {
  "interpreter": {
   "hash": "496ebf3cfb7884aa65af7315f23f52b63bd27cd86308d3611cee752f3356cbb4"
  },
  "kernelspec": {
   "display_name": "Python 3.9.7 ('contagionMap')",
   "language": "python",
   "name": "python3"
  },
  "language_info": {
   "codemirror_mode": {
    "name": "ipython",
    "version": 3
   },
   "file_extension": ".py",
   "mimetype": "text/x-python",
   "name": "python",
   "nbconvert_exporter": "python",
   "pygments_lexer": "ipython3",
   "version": "3.9.7"
  },
  "orig_nbformat": 4
 },
 "nbformat": 4,
 "nbformat_minor": 2
}

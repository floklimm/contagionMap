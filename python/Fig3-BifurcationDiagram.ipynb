{
 "cells": [
  {
   "cell_type": "markdown",
   "metadata": {},
   "source": [
    "## Plot bifurcation diagram for truncated contagion maps in dependence of the noisiness and the treshold T"
   ]
  },
  {
   "cell_type": "code",
   "execution_count": 1,
   "metadata": {},
   "outputs": [],
   "source": [
    "%load_ext autoreload\n",
    "%autoreload 2\n",
    "\n",
    "import cmap as conmap\n",
    "import networkx as nx\n",
    "import numpy as np\n",
    "import matplotlib.pyplot as plt\n",
    "import seaborn as sns; \n",
    "sns.set_theme()\n",
    "import pandas as pd\n",
    "\n",
    "# For pretty colourmaps\n",
    "import palettable\n",
    "from matplotlib.colors import ListedColormap\n",
    "\n",
    "sns.set_style(\"white\")\n",
    "\n",
    "from sklearn.decomposition import PCA\n"
   ]
  },
  {
   "cell_type": "markdown",
   "metadata": {},
   "source": [
    "### Network construction and computation of the contagion maps"
   ]
  },
  {
   "cell_type": "code",
   "execution_count": 3,
   "metadata": {},
   "outputs": [
    {
     "name": "stdout",
     "output_type": "stream",
     "text": [
      "40 0\n",
      "0.0\n",
      "network constructed\n"
     ]
    }
   ],
   "source": [
    "%%time\n",
    "\n",
    "N=400\n",
    "maxDegree=40\n",
    "\n",
    "#alpha_vec = np.arange(0,1.1,0.05)\n",
    "threshold_vec = np.arange(0,0.7,0.05)\n",
    "s_vec = [20,40,np.Inf]\n",
    "nongeometricDegree_vec =np.arange(0,maxDegree,dtype=int)\n",
    "\n",
    "\n",
    "ringStabilityOut = []\n",
    "thresholdOut=[]\n",
    "nStepOut=[]\n",
    "alphaOut=[]\n",
    "\n",
    "for nongeometricDegree in nongeometricDegree_vec:\n",
    "    \n",
    "    # construct network\n",
    "    #geometricDegree = round(degree/(alpha+1))\n",
    "    #nongeometricDegree = degree-geometricDegree\n",
    "    #geometricDegree = maxDegree - nongeometricDegree\n",
    "    geometricDegree = maxDegree\n",
    "    alpha = nongeometricDegree/geometricDegree\n",
    "    print(geometricDegree,nongeometricDegree)\n",
    "    print(alpha)\n",
    "    noisyRL = conmap.constructNoisyRingLattice(numberNodes=400,geometricDegree=geometricDegree,nongeometricDegree=nongeometricDegree)\n",
    "    print('network constructed')\n",
    "    for t in threshold_vec:\n",
    "        for s in s_vec:\n",
    "            # run contagion map\n",
    "            contagionMap = conmap.runTruncatedContagionMap(noisyRL,threshold=t,numberSteps=s,symmetric=True)\n",
    "            # compute ring stability\n",
    "            ringStability = conmap.callRipser(contagionMap)\n",
    "\n",
    "            # save\n",
    "            thresholdOut.append(t)\n",
    "            nStepOut.append(s)\n",
    "            alphaOut.append(alpha)\n",
    "\n",
    "            ringStabilityOut.append(ringStability)\n",
    "\n",
    "# save output DF\n",
    "contagionMapPerformace = pd.DataFrame()\n",
    "contagionMapPerformace['threshold'] = thresholdOut\n",
    "contagionMapPerformace['number steps'] = nStepOut\n",
    "contagionMapPerformace['noisness'] = alphaOut\n",
    "#contagionMapPerformace['spearman correlation'] = correlationOut\n",
    "contagionMapPerformace['ring stability'] = ringStabilityOut\n",
    "\n"
   ]
  },
  {
   "cell_type": "markdown",
   "metadata": {},
   "source": [
    "### Visualisation"
   ]
  },
  {
   "cell_type": "code",
   "execution_count": null,
   "metadata": {},
   "outputs": [],
   "source": [
    "RingStabilityPivoted_s20 = contagionMapPerformace[contagionMapPerformace['number steps'] == 20].pivot_table('ring stability','threshold','noisness')\n",
    "ax = sns.heatmap(RingStabilityPivoted_s20,yticklabels=5,xticklabels=10,cbar_kws={'label': r'ring stability, $\\Delta$'}, cmap=\"Greens\")\n",
    "ax.invert_yaxis()\n",
    "plt.xlabel(r'noisiness, $\\alpha$')\n",
    "plt.ylabel(r'threshold, $T$')\n",
    "\n",
    "# add the theory lines\n",
    "sizeMatrix = RingStabilityPivoted_s20.shape\n",
    "alphaTheory=np.arange(0,1,0.01)\n",
    "T_ANC = alphaTheory/(alphaTheory+1)\n",
    "T_WFP = (1/2)*(1/(alphaTheory+1))\n",
    "\n",
    "plt.plot(T_ANC*sizeMatrix[1]+0.5, color='k', linestyle='--', linewidth='2')\n",
    "plt.plot(T_WFP*sizeMatrix[1]+0.5-10, color='k', linestyle='-', linewidth='2')\n",
    "\n",
    "\n",
    "plt.text(x=5,y=6,s='WFP',color='k')\n",
    "\n",
    "plt.text(x=30,y=8,s='ANC',color='k')\n",
    "\n",
    "plt.text(x=15,y=3,s='WFP & ANC',color='k')\n",
    "\n",
    "\n",
    "# add points at locations\n",
    "plt.scatter(13+0.5,0.05*sizeMatrix[1]-0.5,color='#6b5b95',s=100,marker='x',linewidth=5)\n",
    "plt.scatter(13+0.5,0.2*sizeMatrix[1]-3.5,color='#feb236',s=100,marker='x',linewidth=5)\n",
    "plt.scatter(13+0.5,0.3*sizeMatrix[1]-5.5,color='#d64161',s=100,marker='x',linewidth=5)\n",
    "plt.scatter(13+0.5,0.45*sizeMatrix[1]-8.5,color='#ff7b25',s=100,marker='x',linewidth=5)\n",
    "\n",
    "\n",
    "# plt.plot(alphaTheory*sizeMatrix[0],T_ANC*sizeMatrix[1], color='w', linestyle='--')\n",
    "# plt.plot(alphaTheory*sizeMatrix[0],T_WFP*sizeMatrix[1], color='w', linestyle='-')\n",
    "\n",
    "#plt.savefig('./figures/matrixPlot_steps20.pdf')\n"
   ]
  }
 ],
 "metadata": {
  "interpreter": {
   "hash": "496ebf3cfb7884aa65af7315f23f52b63bd27cd86308d3611cee752f3356cbb4"
  },
  "kernelspec": {
   "display_name": "Python 3.9.7 ('contagionMap')",
   "language": "python",
   "name": "python3"
  },
  "language_info": {
   "codemirror_mode": {
    "name": "ipython",
    "version": 3
   },
   "file_extension": ".py",
   "mimetype": "text/x-python",
   "name": "python",
   "nbconvert_exporter": "python",
   "pygments_lexer": "ipython3",
   "version": "3.9.7"
  },
  "orig_nbformat": 4
 },
 "nbformat": 4,
 "nbformat_minor": 2
}

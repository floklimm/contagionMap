{
 "cells": [
  {
   "cell_type": "markdown",
   "metadata": {},
   "source": [
    "## Plot bifurcation diagram for truncated contagion maps in dependence of the noisiness and the treshold"
   ]
  },
  {
   "cell_type": "code",
   "execution_count": 1,
   "metadata": {},
   "outputs": [],
   "source": [
    "%load_ext autoreload\n",
    "%autoreload 2\n",
    "\n",
    "import cmap as conmap\n",
    "import networkx as nx\n",
    "import numpy as np\n",
    "import matplotlib.pyplot as plt\n",
    "import seaborn as sns; \n",
    "sns.set_theme()\n",
    "import pandas as pd\n",
    "\n",
    "# For pretty colourmaps\n",
    "import palettable\n",
    "from matplotlib.colors import ListedColormap\n",
    "\n",
    "sns.set_style(\"white\")\n",
    "\n",
    "from sklearn.decomposition import PCA\n"
   ]
  }
 ],
 "metadata": {
  "interpreter": {
   "hash": "496ebf3cfb7884aa65af7315f23f52b63bd27cd86308d3611cee752f3356cbb4"
  },
  "kernelspec": {
   "display_name": "Python 3.9.7 ('contagionMap')",
   "language": "python",
   "name": "python3"
  },
  "language_info": {
   "codemirror_mode": {
    "name": "ipython",
    "version": 3
   },
   "file_extension": ".py",
   "mimetype": "text/x-python",
   "name": "python",
   "nbconvert_exporter": "python",
   "pygments_lexer": "ipython3",
   "version": "3.9.7"
  },
  "orig_nbformat": 4
 },
 "nbformat": 4,
 "nbformat_minor": 2
}
